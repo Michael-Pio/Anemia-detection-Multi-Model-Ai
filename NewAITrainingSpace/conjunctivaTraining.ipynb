{
 "cells": [
  {
   "cell_type": "markdown",
   "metadata": {},
   "source": [
    "# Training Part"
   ]
  },
  {
   "cell_type": "code",
   "execution_count": null,
   "metadata": {},
   "outputs": [],
   "source": [
    "import tensorflow as tf"
   ]
  },
  {
   "cell_type": "markdown",
   "metadata": {},
   "source": [
    "<h3> LoadingImages </h3>"
   ]
  },
  {
   "cell_type": "code",
   "execution_count": null,
   "metadata": {},
   "outputs": [],
   "source": [
    "import pandas as pd\n",
    "import numpy as np\n",
    "import cv2\n",
    "import os\n",
    "from sklearn.model_selection import train_test_split\n",
    "\n",
    "# Load the CSV file\n",
    "data = pd.read_csv(r'D:\\Dev\\OfficialProjects\\AnemiaDetection\\NewDataWorkspace\\conjunctiva\\metadataConjuctiva.csv')\n",
    "\n",
    "# Define image size and paths\n",
    "image_size = (128, 128)\n",
    "image_folder = r'D:\\Dev\\OfficialProjects\\AnemiaDetection\\NewDataWorkspace\\conjunctiva\\DATA'\n",
    "\n",
    "# Function to load and preprocess images\n",
    "def load_images(data, image_folder, image_size):\n",
    "    images = []\n",
    "    labels = []\n",
    "    for index, row in data.iterrows():\n",
    "        img_path = os.path.join(image_folder, row['F_name'])\n",
    "        image = cv2.imread(img_path)\n",
    "        if image is not None:\n",
    "            image = cv2.resize(image, image_size)\n",
    "            image = image / 255.0  # Normalize to [0, 1]\n",
    "            images.append(image)\n",
    "            labels.append(row['anemic'])\n",
    "    return np.array(images), np.array(labels)\n",
    "\n",
    "images, labels = load_images(data, image_folder, image_size)\n"
   ]
  },
  {
   "cell_type": "code",
   "execution_count": null,
   "metadata": {},
   "outputs": [],
   "source": [
    "# Split the data into training and validation sets\n",
    "X_train, X_val, y_train, y_val = train_test_split(images, labels, test_size=0.2, random_state=42)"
   ]
  },
  {
   "cell_type": "code",
   "execution_count": null,
   "metadata": {},
   "outputs": [],
   "source": [
    "from tensorflow.keras.models import Sequential\n",
    "from tensorflow.keras.layers import Conv2D, MaxPooling2D, Flatten, Dense, Dropout, BatchNormalization\n",
    "\n",
    "def create_model(input_shape):\n",
    "    model = Sequential([\n",
    "        Conv2D(32, (3, 3), activation='relu', input_shape=input_shape),\n",
    "        BatchNormalization(),\n",
    "        MaxPooling2D((2, 2)),\n",
    "\n",
    "        Conv2D(64, (3, 3), activation='relu'),\n",
    "        BatchNormalization(),\n",
    "        MaxPooling2D((2, 2)),\n",
    "\n",
    "        Conv2D(128, (3, 3), activation='relu'),\n",
    "        BatchNormalization(),\n",
    "        MaxPooling2D((2, 2)),\n",
    "\n",
    "        Conv2D(256, (3, 3), activation='relu'),\n",
    "        BatchNormalization(),\n",
    "        MaxPooling2D((2, 2)),\n",
    "\n",
    "        Flatten(),\n",
    "        Dense(512, activation='relu'),\n",
    "        Dropout(0.5),\n",
    "        Dense(1, activation='sigmoid')  # Assuming binary classification\n",
    "    ])\n",
    "\n",
    "    model.compile(optimizer='adam', loss='binary_crossentropy', metrics=['accuracy'])\n",
    "    return model\n",
    "\n",
    "\n",
    "# Define input shape\n",
    "input_shape = (image_size[0], image_size[1], 3)\n",
    "\n",
    "# Create models\n",
    "model = create_model(input_shape)"
   ]
  },
  {
   "cell_type": "code",
   "execution_count": null,
   "metadata": {},
   "outputs": [],
   "source": [
    "model.fit(X_train, y_train, epochs=10, validation_data=(X_val, y_val))"
   ]
  },
  {
   "cell_type": "code",
   "execution_count": null,
   "metadata": {},
   "outputs": [],
   "source": [
    "model.predict(X_val)"
   ]
  },
  {
   "cell_type": "code",
   "execution_count": null,
   "metadata": {},
   "outputs": [],
   "source": [
    "model.save(filepath=r\"D:\\Dev\\OfficialProjects\\AnemiaDetection\\Model\\conjunctiva.h5\")"
   ]
  },
  {
   "cell_type": "markdown",
   "metadata": {},
   "source": [
    "# Prediction Part"
   ]
  },
  {
   "cell_type": "code",
   "execution_count": 7,
   "metadata": {},
   "outputs": [
    {
     "name": "stdout",
     "output_type": "stream",
     "text": [
      "1/1 [==============================] - 0s 150ms/step\n",
      "Not Anemic\n"
     ]
    }
   ],
   "source": [
    "import cv2\n",
    "import numpy as np\n",
    "from tensorflow.keras.models import load_model\n",
    "\n",
    "def predict_anemia(model, img_path, image_size=(128, 128)):\n",
    "    # Load and preprocess the image\n",
    "    img = cv2.imread(img_path)\n",
    "    if img is not None:\n",
    "        img = cv2.resize(img, image_size)\n",
    "        img = img / 255.0  # Normalize to [0, 1]\n",
    "        img_array = np.expand_dims(img, axis=0)  # Add batch dimension\n",
    "\n",
    "        # Make a prediction\n",
    "        prediction = model.predict(img_array)\n",
    "\n",
    "        # Convert the prediction to a binary class label\n",
    "        threshold = 0.5\n",
    "        class_label = (prediction > threshold).astype(int)\n",
    "\n",
    "        # Output the result\n",
    "        if class_label == 0:\n",
    "            return \"Not Anemic\"\n",
    "        else:\n",
    "            return \"Anemic\"\n",
    "    else:\n",
    "        return \"Image could not be loaded\"\n",
    "\n",
    "# Example usage:\n",
    "\n",
    "img_path = r'D:\\Dev\\OfficialProjects\\AnemiaDetection\\NewDataWorkspace\\conjunctiva\\DATA\\Non-Anemic-052 (2).png'  # Update this path\n",
    "\n",
    "fingerNail__model = load_model(r\"D:\\Dev\\OfficialProjects\\AnemiaDetection\\Model\\conjunctiva_100.h5\")\n",
    "\n",
    "# Predict using the model\n",
    "result = predict_anemia(fingerNail__model, img_path)\n",
    "print(result)\n"
   ]
  }
 ],
 "metadata": {
  "kernelspec": {
   "display_name": "AiEnvironment",
   "language": "python",
   "name": "python3"
  },
  "language_info": {
   "codemirror_mode": {
    "name": "ipython",
    "version": 3
   },
   "file_extension": ".py",
   "mimetype": "text/x-python",
   "name": "python",
   "nbconvert_exporter": "python",
   "pygments_lexer": "ipython3",
   "version": "3.10.13"
  }
 },
 "nbformat": 4,
 "nbformat_minor": 2
}
