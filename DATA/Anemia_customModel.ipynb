{
 "cells": [
  {
   "cell_type": "code",
   "execution_count": 1,
   "metadata": {},
   "outputs": [
    {
     "name": "stdout",
     "output_type": "stream",
     "text": [
      "Epoch 1/10\n",
      "14/14 [==============================] - 1s 18ms/step - loss: 0.6366 - accuracy: 0.6048 - val_loss: 0.6088 - val_accuracy: 0.5849\n",
      "Epoch 2/10\n",
      "14/14 [==============================] - 0s 3ms/step - loss: 0.5789 - accuracy: 0.6190 - val_loss: 0.5834 - val_accuracy: 0.5849\n",
      "Epoch 3/10\n",
      "14/14 [==============================] - 0s 4ms/step - loss: 0.5495 - accuracy: 0.6262 - val_loss: 0.5572 - val_accuracy: 0.6698\n",
      "Epoch 4/10\n",
      "14/14 [==============================] - 0s 4ms/step - loss: 0.5255 - accuracy: 0.7119 - val_loss: 0.5290 - val_accuracy: 0.6698\n",
      "Epoch 5/10\n",
      "14/14 [==============================] - 0s 3ms/step - loss: 0.5027 - accuracy: 0.7119 - val_loss: 0.5017 - val_accuracy: 0.6698\n",
      "Epoch 6/10\n",
      "14/14 [==============================] - 0s 5ms/step - loss: 0.4789 - accuracy: 0.7119 - val_loss: 0.4729 - val_accuracy: 0.7642\n",
      "Epoch 7/10\n",
      "14/14 [==============================] - 0s 4ms/step - loss: 0.4560 - accuracy: 0.7952 - val_loss: 0.4474 - val_accuracy: 0.8208\n",
      "Epoch 8/10\n",
      "14/14 [==============================] - 0s 4ms/step - loss: 0.4341 - accuracy: 0.7905 - val_loss: 0.4230 - val_accuracy: 0.8208\n",
      "Epoch 9/10\n",
      "14/14 [==============================] - 0s 4ms/step - loss: 0.4166 - accuracy: 0.7881 - val_loss: 0.4037 - val_accuracy: 0.8302\n",
      "Epoch 10/10\n",
      "14/14 [==============================] - 0s 3ms/step - loss: 0.4008 - accuracy: 0.8119 - val_loss: 0.3920 - val_accuracy: 0.8208\n"
     ]
    }
   ],
   "source": [
    "import pandas as pd\n",
    "import tensorflow as tf\n",
    "from tensorflow.keras.models import Sequential\n",
    "from tensorflow.keras.layers import Dense\n",
    "from sklearn.model_selection import train_test_split\n",
    "from tensorflow.keras.utils import to_categorical\n",
    "\n",
    "# Load the dataset from the CSV file\n",
    "data = pd.read_csv(\"anemia_symptom_data_with_labels_Palm.csv\")\n",
    "\n",
    "# Extract symptoms and labels from the dataset\n",
    "X_symptoms = data.drop(columns=['Palm','Label'])\n",
    "\n",
    "y = data['Label']\n",
    "\n",
    "# Split the dataset into training and testing sets\n",
    "X_train, X_test, y_train, y_test = train_test_split(X_symptoms, y, test_size=0.2, random_state=42)\n",
    "\n",
    "# Convert labels to one-hot encoding\n",
    "y_train = to_categorical(y_train, num_classes=2)\n",
    "y_test = to_categorical(y_test, num_classes=2)\n",
    "\n",
    "# Create the TensorFlow model\n",
    "model = Sequential([\n",
    "    Dense(64, activation='relu', input_shape=(X_train.shape[1],)),\n",
    "    Dense(32, activation='relu'),\n",
    "    Dense(2, activation='softmax')  # Use softmax activation for multi-class classification\n",
    "])\n",
    "\n",
    "# Compile the model\n",
    "model.compile(optimizer='adam', loss='categorical_crossentropy', metrics=['accuracy'])\n",
    "\n",
    "# Train the model\n",
    "model.fit(X_train, y_train, epochs=10, batch_size=32, validation_data=(X_test, y_test))\n",
    "\n",
    "# Save the trained model\n",
    "model.save(\"symptomsModel.h5\")\n"
   ]
  }
 ],
 "metadata": {
  "kernelspec": {
   "display_name": "AiEnvironment",
   "language": "python",
   "name": "python3"
  },
  "language_info": {
   "codemirror_mode": {
    "name": "ipython",
    "version": 3
   },
   "file_extension": ".py",
   "mimetype": "text/x-python",
   "name": "python",
   "nbconvert_exporter": "python",
   "pygments_lexer": "ipython3",
   "version": "3.9.13"
  },
  "orig_nbformat": 4
 },
 "nbformat": 4,
 "nbformat_minor": 2
}
