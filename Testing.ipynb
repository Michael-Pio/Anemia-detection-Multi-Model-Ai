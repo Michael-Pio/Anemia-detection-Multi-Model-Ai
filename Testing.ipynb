{
 "cells": [
  {
   "cell_type": "code",
   "execution_count": 20,
   "metadata": {},
   "outputs": [],
   "source": [
    "import numpy as np\n",
    "\n",
    "import tensorflow as tf\n",
    "\n",
    "# Load your trained symptom model\n",
    "symptom_model = tf.keras.models.load_model('Model\\symptomsModel.h5')\n",
    "\n",
    "def preprocess_symptoms(symptoms):\n",
    "    # Convert symptoms to a one-hot encoded array (0: Absent, 1: Present)\n",
    "    all_symptoms = [\"General Fatigue\", \"Weakness\", \"Shortness of Breath\", \"Pale Skin\",\n",
    "                    \"Rapid Heartbeat\", \"Dizziness or Lightheadedness\", \"Cold Hands and Feet\",\n",
    "                    \"Brittle Nails\", \"Headaches\", \"Poor Concentration\", \"Chest Pain\", \"Restless Legs\"]\n",
    "    symptoms_array = [1 if symptom in symptoms else 0 for symptom in all_symptoms]\n",
    "    return np.array(symptoms_array).reshape(1, -1)\n",
    "\n",
    "\n",
    "# Replace this with your trained model or model loading code\n",
    "def predict_symptoms(symptoms):\n",
    "    symptoms_array = preprocess_symptoms(symptoms)\n",
    "    \n",
    "    # Perform prediction using your symptom model\n",
    "    prediction = symptom_model.predict(symptoms_array)\n",
    "    print(\"Predicted :\",prediction)\n",
    "    return prediction[0]\n"
   ]
  },
  {
   "cell_type": "code",
   "execution_count": 21,
   "metadata": {},
   "outputs": [
    {
     "name": "stdout",
     "output_type": "stream",
     "text": [
      "Model: \"sequential_3\"\n",
      "_________________________________________________________________\n",
      " Layer (type)                Output Shape              Param #   \n",
      "=================================================================\n",
      " dense_9 (Dense)             (None, 64)                832       \n",
      "                                                                 \n",
      " dense_10 (Dense)            (None, 32)                2080      \n",
      "                                                                 \n",
      " dense_11 (Dense)            (None, 2)                 66        \n",
      "                                                                 \n",
      "=================================================================\n",
      "Total params: 2,978\n",
      "Trainable params: 2,978\n",
      "Non-trainable params: 0\n",
      "_________________________________________________________________\n"
     ]
    }
   ],
   "source": [
    "symptom_model.summary()"
   ]
  },
  {
   "cell_type": "code",
   "execution_count": 22,
   "metadata": {},
   "outputs": [
    {
     "name": "stdout",
     "output_type": "stream",
     "text": [
      "1/1 [==============================] - 0s 55ms/step\n",
      "Predicted : [[7.763866e-05 9.999224e-01]]\n",
      "0.9999224\n"
     ]
    }
   ],
   "source": [
    "symptoms = [\"General Fatigue\", \"Weakness\", \"Shortness of Breath\", \"Pale Skin\",\n",
    "            \"Rapid Heartbeat\", \"Dizziness or Lightheadedness\", \"Cold Hands and Feet\"]\n",
    "prediction = predict_symptoms(symptoms)\n",
    "\n",
    "print(prediction[1])"
   ]
  }
 ],
 "metadata": {
  "kernelspec": {
   "display_name": "Python 3",
   "language": "python",
   "name": "python3"
  },
  "language_info": {
   "codemirror_mode": {
    "name": "ipython",
    "version": 3
   },
   "file_extension": ".py",
   "mimetype": "text/x-python",
   "name": "python",
   "nbconvert_exporter": "python",
   "pygments_lexer": "ipython3",
   "version": "3.9.13"
  },
  "orig_nbformat": 4
 },
 "nbformat": 4,
 "nbformat_minor": 2
}
